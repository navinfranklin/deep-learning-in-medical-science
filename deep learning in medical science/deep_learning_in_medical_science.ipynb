{
  "nbformat": 4,
  "nbformat_minor": 0,
  "metadata": {
    "colab": {
      "name": "deep learning clg proj7.ipynb",
      "provenance": []
    },
    "kernelspec": {
      "name": "python3",
      "display_name": "Python 3"
    },
    "accelerator": "GPU"
  },
  "cells": [
    {
      "cell_type": "code",
      "metadata": {
        "id": "eNxZ6NkEaPKr",
        "outputId": "9df6faf3-6c73-46f7-aeaa-b3b5feb233ef",
        "colab": {
          "base_uri": "https://localhost:8080/",
          "height": 35
        }
      },
      "source": [
        "import torch\n",
        "torch.cuda.get_device_name(0)"
      ],
      "execution_count": 3,
      "outputs": [
        {
          "output_type": "execute_result",
          "data": {
            "application/vnd.google.colaboratory.intrinsic+json": {
              "type": "string"
            },
            "text/plain": [
              "'Tesla T4'"
            ]
          },
          "metadata": {
            "tags": []
          },
          "execution_count": 3
        }
      ]
    },
    {
      "cell_type": "code",
      "metadata": {
        "id": "PqlM98rkrOco"
      },
      "source": [
        "from keras.layers import Input, Lambda, Dense, Flatten\n",
        "from keras.models import Model\n",
        "from keras.applications.vgg16 import VGG16\n",
        "from keras.applications.vgg16 import preprocess_input\n",
        "from keras.preprocessing import image\n",
        "from keras.preprocessing.image import ImageDataGenerator\n",
        "from keras.models import Sequential\n",
        "import numpy as np\n",
        "from glob import glob\n",
        "import matplotlib.pyplot as plt"
      ],
      "execution_count": 4,
      "outputs": []
    },
    {
      "cell_type": "code",
      "metadata": {
        "id": "aML599xdrXh6"
      },
      "source": [
        "# resize the images\n",
        "IMAGE_SIZE = [224, 224]"
      ],
      "execution_count": 5,
      "outputs": []
    },
    {
      "cell_type": "code",
      "metadata": {
        "id": "4Y0LjQrdrsGi"
      },
      "source": [
        "#importing dataset\n",
        "train_path = '/content/drive/My Drive/train'\n",
        "valid_path = '/content/drive/My Drive/test'"
      ],
      "execution_count": 6,
      "outputs": []
    },
    {
      "cell_type": "code",
      "metadata": {
        "id": "7JNQuPoosBRb"
      },
      "source": [
        "#creating preprocessing layer to the front of VGG we use 3 for rgb imagenet is used for classifing 1000 and more \n",
        "vgg = VGG16(input_shape=IMAGE_SIZE + [3], weights='imagenet', include_top=False)"
      ],
      "execution_count": 8,
      "outputs": []
    },
    {
      "cell_type": "code",
      "metadata": {
        "id": "tZcf6le7tdPR"
      },
      "source": [
        "# we should not train existing weights as we are the weights with imagenet\n",
        "for layer in vgg.layers:\n",
        "  layer.trainable = False"
      ],
      "execution_count": 9,
      "outputs": []
    },
    {
      "cell_type": "code",
      "metadata": {
        "id": "ODLjK9DYuU2s"
      },
      "source": [
        " # as we have 2 folder as our train we need to findout the classes for that it will be useful for getting number of classes\n",
        "folders = glob('/content/drive/My Drive/train/*')"
      ],
      "execution_count": 11,
      "outputs": []
    },
    {
      "cell_type": "code",
      "metadata": {
        "id": "NfOzg_K9u_-n"
      },
      "source": [
        "# for the layers we can increase the amout of layers as we want we have to flatten what we have got in vvgoutput\n",
        "x = Flatten()(vgg.output)\n",
        "# we use the lenght of the folders instead of giving the values as 1000 or somthing else\n",
        "prediction = Dense(len(folders), activation='softmax')(x)"
      ],
      "execution_count": 12,
      "outputs": []
    },
    {
      "cell_type": "code",
      "metadata": {
        "id": "WbW__Tn8xqqo"
      },
      "source": [
        "# now we have to create a model\n",
        "model = Model(inputs=vgg.input, outputs=prediction)"
      ],
      "execution_count": 13,
      "outputs": []
    },
    {
      "cell_type": "code",
      "metadata": {
        "id": "REYSRWvjx0TF",
        "outputId": "e3c0222d-a5f6-43b1-9847-de0186aabd3e",
        "colab": {
          "base_uri": "https://localhost:8080/",
          "height": 857
        }
      },
      "source": [
        "# view the structure or summary  of the model we use this\n",
        "model.summary()"
      ],
      "execution_count": 14,
      "outputs": [
        {
          "output_type": "stream",
          "text": [
            "Model: \"functional_1\"\n",
            "_________________________________________________________________\n",
            "Layer (type)                 Output Shape              Param #   \n",
            "=================================================================\n",
            "input_2 (InputLayer)         [(None, 224, 224, 3)]     0         \n",
            "_________________________________________________________________\n",
            "block1_conv1 (Conv2D)        (None, 224, 224, 64)      1792      \n",
            "_________________________________________________________________\n",
            "block1_conv2 (Conv2D)        (None, 224, 224, 64)      36928     \n",
            "_________________________________________________________________\n",
            "block1_pool (MaxPooling2D)   (None, 112, 112, 64)      0         \n",
            "_________________________________________________________________\n",
            "block2_conv1 (Conv2D)        (None, 112, 112, 128)     73856     \n",
            "_________________________________________________________________\n",
            "block2_conv2 (Conv2D)        (None, 112, 112, 128)     147584    \n",
            "_________________________________________________________________\n",
            "block2_pool (MaxPooling2D)   (None, 56, 56, 128)       0         \n",
            "_________________________________________________________________\n",
            "block3_conv1 (Conv2D)        (None, 56, 56, 256)       295168    \n",
            "_________________________________________________________________\n",
            "block3_conv2 (Conv2D)        (None, 56, 56, 256)       590080    \n",
            "_________________________________________________________________\n",
            "block3_conv3 (Conv2D)        (None, 56, 56, 256)       590080    \n",
            "_________________________________________________________________\n",
            "block3_pool (MaxPooling2D)   (None, 28, 28, 256)       0         \n",
            "_________________________________________________________________\n",
            "block4_conv1 (Conv2D)        (None, 28, 28, 512)       1180160   \n",
            "_________________________________________________________________\n",
            "block4_conv2 (Conv2D)        (None, 28, 28, 512)       2359808   \n",
            "_________________________________________________________________\n",
            "block4_conv3 (Conv2D)        (None, 28, 28, 512)       2359808   \n",
            "_________________________________________________________________\n",
            "block4_pool (MaxPooling2D)   (None, 14, 14, 512)       0         \n",
            "_________________________________________________________________\n",
            "block5_conv1 (Conv2D)        (None, 14, 14, 512)       2359808   \n",
            "_________________________________________________________________\n",
            "block5_conv2 (Conv2D)        (None, 14, 14, 512)       2359808   \n",
            "_________________________________________________________________\n",
            "block5_conv3 (Conv2D)        (None, 14, 14, 512)       2359808   \n",
            "_________________________________________________________________\n",
            "block5_pool (MaxPooling2D)   (None, 7, 7, 512)         0         \n",
            "_________________________________________________________________\n",
            "flatten (Flatten)            (None, 25088)             0         \n",
            "_________________________________________________________________\n",
            "dense (Dense)                (None, 2)                 50178     \n",
            "=================================================================\n",
            "Total params: 14,764,866\n",
            "Trainable params: 50,178\n",
            "Non-trainable params: 14,714,688\n",
            "_________________________________________________________________\n"
          ],
          "name": "stdout"
        }
      ]
    },
    {
      "cell_type": "markdown",
      "metadata": {
        "id": "MkEGzoAPynXZ"
      },
      "source": [
        "#from this summary we can understand that last dense is 2 layer output as we have 2 folders like normal and pneumonia inside test and as well as train \n",
        "#and we will have 16 layers as we have used vgg16"
      ]
    },
    {
      "cell_type": "code",
      "metadata": {
        "id": "pBxLzvPpyq0C"
      },
      "source": [
        "# now assigning the cost and optimizer for the model\n",
        "model.compile(loss='categorical_crossentropy',optimizer='adam',metrics=['accuracy'])"
      ],
      "execution_count": 15,
      "outputs": []
    },
    {
      "cell_type": "code",
      "metadata": {
        "id": "W8irVXvszTKt"
      },
      "source": [
        "# now by using the imagedatagenerator we need to make the images from both the folders rescale,shearrange,zoom range to make the images equal\n",
        "from keras.preprocessing.image import ImageDataGenerator\n",
        "\n",
        "train_datagen = ImageDataGenerator(rescale = 1./255,\n",
        "                                   shear_range = 0.2,\n",
        "                                   zoom_range = 0.2,\n",
        "                                   horizontal_flip = True)\n",
        "\n",
        "test_datagen = ImageDataGenerator(rescale = 1./255)\n",
        "\n"
      ],
      "execution_count": 18,
      "outputs": []
    },
    {
      "cell_type": "code",
      "metadata": {
        "id": "VOINAw7m0VgV",
        "outputId": "3e081c34-4585-4357-e794-79f4fd853eb8",
        "colab": {
          "base_uri": "https://localhost:8080/",
          "height": 50
        }
      },
      "source": [
        "#now we need to choose the directory for the train and test and fix the class mode as categorical we can also use binary as we have only 2 categories\n",
        "#it will retrive all the images present in both normal and pneumonia folder and gives as a output\n",
        "training_set = train_datagen.flow_from_directory('/content/drive/My Drive/train',\n",
        "                                                 target_size = (224, 224),\n",
        "                                                 batch_size = 32,\n",
        "                                                 class_mode = 'categorical')\n",
        "\n",
        "test_set = test_datagen.flow_from_directory('/content/drive/My Drive/test',\n",
        "                                            target_size = (224, 224),\n",
        "                                            batch_size = 32,\n",
        "                                            class_mode = 'categorical')"
      ],
      "execution_count": 20,
      "outputs": [
        {
          "output_type": "stream",
          "text": [
            "Found 5216 images belonging to 2 classes.\n",
            "Found 624 images belonging to 2 classes.\n"
          ],
          "name": "stdout"
        }
      ]
    },
    {
      "cell_type": "code",
      "metadata": {
        "id": "Y7Cz2QXp2Vlo",
        "outputId": "3079afcb-5be1-4f0e-85a4-3a3b2f963137",
        "colab": {
          "base_uri": "https://localhost:8080/",
          "height": 185
        }
      },
      "source": [
        "# now fitting the model as we dont have a great GPU make the epoch small for less timing \n",
        "r = model.fit_generator(\n",
        "  training_set,\n",
        "  validation_data=test_set,\n",
        "  epochs=5,\n",
        "  steps_per_epoch=len(training_set),\n",
        "  validation_steps=len(test_set))"
      ],
      "execution_count": 23,
      "outputs": [
        {
          "output_type": "stream",
          "text": [
            "Epoch 1/5\n",
            "163/163 [==============================] - 2853s 18s/step - loss: 0.1797 - accuracy: 0.9245 - val_loss: 0.2455 - val_accuracy: 0.9119\n",
            "Epoch 2/5\n",
            "163/163 [==============================] - 116s 713ms/step - loss: 0.1108 - accuracy: 0.9555 - val_loss: 0.5138 - val_accuracy: 0.8526\n",
            "Epoch 3/5\n",
            "163/163 [==============================] - 116s 711ms/step - loss: 0.0924 - accuracy: 0.9641 - val_loss: 0.3266 - val_accuracy: 0.9022\n",
            "Epoch 4/5\n",
            "163/163 [==============================] - 116s 713ms/step - loss: 0.0942 - accuracy: 0.9651 - val_loss: 0.3310 - val_accuracy: 0.8990\n",
            "Epoch 5/5\n",
            "163/163 [==============================] - 116s 713ms/step - loss: 0.0734 - accuracy: 0.9722 - val_loss: 0.2676 - val_accuracy: 0.9151\n"
          ],
          "name": "stdout"
        }
      ]
    },
    {
      "cell_type": "markdown",
      "metadata": {
        "id": "CFFbzreuEs_p"
      },
      "source": [
        "# it took 2 hrs 15 mins for 5 epoch "
      ]
    },
    {
      "cell_type": "code",
      "metadata": {
        "id": "M_3hNXoyE8pJ",
        "outputId": "0cc3be0f-4108-4dbb-990e-f2c3391ea549",
        "colab": {
          "base_uri": "https://localhost:8080/",
          "height": 265
        }
      },
      "source": [
        "# ploting the loss function \n",
        "plt.plot(r.history['loss'], label='train loss')\n",
        "plt.plot(r.history['val_loss'], label='val loss')\n",
        "plt.legend()\n",
        "plt.show()"
      ],
      "execution_count": 24,
      "outputs": [
        {
          "output_type": "display_data",
          "data": {
            "image/png": "[encoded data removed]",
            "text/plain": [
              "<Figure size 432x288 with 1 Axes>"
            ]
          },
          "metadata": {
            "tags": [],
            "needs_background": "light"
          }
        }
      ]
    },
    {
      "cell_type": "code",
      "metadata": {
        "id": "YOg3T8ZlGruo"
      },
      "source": [
        "import tensorflow as tf\n",
        "from keras.models import load_model\n",
        "model.save('model_vgg19.h5')"
      ],
      "execution_count": 26,
      "outputs": []
    },
    {
      "cell_type": "code",
      "metadata": {
        "id": "GRgpAofeH0rb"
      },
      "source": [
        "from keras.models import load_model\n",
        "from keras.preprocessing import image\n",
        "from keras.applications.vgg16 import preprocess_input\n",
        "import numpy as np\n",
        "model = load_model('model_vgg19.h5')"
      ],
      "execution_count": 27,
      "outputs": []
    },
    {
      "cell_type": "code",
      "metadata": {
        "id": "oXCG4AHeH6oQ"
      },
      "source": [
        "#now predict the images without the disease\n",
        "#after getting the image we have to convert it into the array after that we have to expand the dimension so that we can be able to use all the images\n",
        "img = image.load_img('/content/drive/My Drive/val/NORMAL/NORMAL2-IM-1427-0001.jpeg', target_size=(224, 224))\n",
        "x = image.img_to_array(img)\n",
        "x = np.expand_dims(x, axis=0)\n",
        "img_data = preprocess_input(x)\n",
        "classes = model.predict(img_data)"
      ],
      "execution_count": 33,
      "outputs": []
    },
    {
      "cell_type": "markdown",
      "metadata": {
        "id": "wvFSFvtbJIJS"
      },
      "source": [
        "# from the above i have used the normal image from the test data to check whether it is affected with pneumonia or not by predicting we get to now that array 0 is the not affected part and array 1 is affected part."
      ]
    },
    {
      "cell_type": "code",
      "metadata": {
        "id": "-QReEc30ISFn",
        "outputId": "0fd68491-1a17-4550-a6f5-3037ed63b42e",
        "colab": {
          "base_uri": "https://localhost:8080/",
          "height": 34
        }
      },
      "source": [
        "classes"
      ],
      "execution_count": 34,
      "outputs": [
        {
          "output_type": "execute_result",
          "data": {
            "text/plain": [
              "array([[1.0000000e+00, 1.1053389e-28]], dtype=float32)"
            ]
          },
          "metadata": {
            "tags": []
          },
          "execution_count": 34
        }
      ]
    },
    {
      "cell_type": "code",
      "metadata": {
        "id": "838uOH4kId7e"
      },
      "source": [
        "#now predict the images with the disease\n",
        "img = image.load_img('/content/drive/My Drive/val/PNEUMONIA/person1946_bacteria_4874.jpeg', target_size=(224, 224))\n",
        "x = image.img_to_array(img)\n",
        "x = np.expand_dims(x, axis=0)\n",
        "img_data = preprocess_input(x)\n",
        "classes1 = model.predict(img_data)"
      ],
      "execution_count": 35,
      "outputs": []
    },
    {
      "cell_type": "code",
      "metadata": {
        "id": "iOC0dZFsIlIj",
        "outputId": "10a93cef-af05-4c04-90d3-5b60679b02e4",
        "colab": {
          "base_uri": "https://localhost:8080/",
          "height": 34
        }
      },
      "source": [
        "classes1"
      ],
      "execution_count": 36,
      "outputs": [
        {
          "output_type": "execute_result",
          "data": {
            "text/plain": [
              "array([[0., 1.]], dtype=float32)"
            ]
          },
          "metadata": {
            "tags": []
          },
          "execution_count": 36
        }
      ]
    },
    {
      "cell_type": "markdown",
      "metadata": {
        "id": "JaZwyC7pLzYW"
      },
      "source": [
        "#here we get to know that the pperson is affected as we got zero"
      ]
    },
    {
      "cell_type": "markdown",
      "metadata": {
        "id": "M6mmvWYtJGUp"
      },
      "source": [
        ""
      ]
    }
  ]
}